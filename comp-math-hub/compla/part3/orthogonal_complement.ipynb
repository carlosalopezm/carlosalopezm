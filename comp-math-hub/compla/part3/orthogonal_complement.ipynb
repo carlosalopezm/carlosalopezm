{
    "metadata": {
        "kernelspec": {
            "name": "python3",
            "display_name": "Python 3 (ipykernel)",
            "language": "python"
        }
    },
    "nbformat": 4,
    "nbformat_minor": 2,
    "cells": [
        {
            "attachments": {},
            "cell_type": "markdown",
            "metadata": {},
            "source": [
                "To recap, a $m\\times n$ matrix $A$ has four **fundamental subspaces**: column space, row space, null space, and left null space. The row space and null space are both subspaces of $\\mathbb R^n$. Their dimensions are $r$ (the rank of $A$) and $n-r$, respectively. The column space and left null space are both subspaces of $\\mathbb R^m$. Their dimensions are $r$ and $m-r$, respectively."
            ]
        },
        {
            "attachments": {},
            "cell_type": "markdown",
            "metadata": {},
            "source": [
                "# Orthogonal Subspaces\n",
                "\n",
                "Recall that two vectors $\\mathbf v$ and $\\mathbf w$ are **orthogonal** if their dot product is $0$. We say that two subspaces $V$ and $W$ are **orthogonal subspaces** if all vectors in $V$ are orthogonal to all vectors in $W$. For example, the $z$ axis and the $x$-$y$ plane in $\\mathbb R^3$ are orthogonal subspaces. Note that the intersection of orthogonal subspaces must be equal to $\\{\\mathbf 0\\}$. No other vector is orthogonal to itself.\n",
                "\n",
                "It can be shown that the row space and null space of a matrix are orthogonal subspaces. Recall that $N(A)$ consists of all solutions to $A \\mathbf x = \\mathbf 0$. This equation also says that any row of $A$ dotted with $\\mathbf x$ is equal to $0$. This holds for any linear combination of rows of $A$ and any null space vector of $A$. The same logic can be applied to $A^\\top$ to show that the $C(A)$ and $N(A^\\top)$ are orthogonal.\n",
                "\n",
                ""
            ]
        },
        {
            "attachments": {},
            "cell_type": "markdown",
            "metadata": {},
            "source": [
                "# Orthogonal Complements\n",
                "\n",
                "The two pairs of subspaces are more than just orthogonal subspaces. The **orthogonal complement** $W^\\perp$ of a subspace $W$ in a vector space $V$ contains *every* vector in $V$ that is orthogonal to all vectors in $W$. $C(A^\\top)$ and $N(A)$ are orthogonal complements in $\\mathbb R^n$, since every vector orthogonal to the rows of $A$ satisfy $A \\mathbf x = \\mathbf 0$. By the same logic, $C(A)$ and $N(A^\\top)$ are orthogonal complements in $\\mathbb R^m$.\n",
                "\n",
                "These properties tell us how the matrix $A$ breaks apart $\\mathbb R^n$ and $\\mathbb R^m$. The bases for $C(A^\\top)$ and $N(A)$ together form a basis for $\\mathbb R^n$. Every $n$-vector can be written as a sum of a row space vector and null space vector. Similarly, the bases for $C(A)$ and $N(A^\\top)$ together form a basis for $\\mathbb R^m$. Every $m$-vector can be written as a sum of a column space vector and left null space vector."
            ]
        }
    ]
}

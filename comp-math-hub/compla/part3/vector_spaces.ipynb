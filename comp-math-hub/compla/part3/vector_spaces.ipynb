{
    "metadata": {
        "kernelspec": {
            "name": "python3",
            "display_name": "Python 3 (ipykernel)",
            "language": "python"
        }
    },
    "nbformat": 4,
    "nbformat_minor": 0,
    "cells": [
        {
            "attachments": {},
            "cell_type": "markdown",
            "metadata": {},
            "source": [
                "# Vector Spaces\n",
                "\n",
                "Recall that the span of a set of vectors is the set of all possible linear combinations of them. This is an example of a **vector space**, which is a set of objects $V$. The objects (vectors) can be added together and multiplied by scalars from a field (e.g., $\\mathbb R$), with the requirement that the results of these operations are also elements of $V$. In other words, vector spaces are *closed* under addition and scalar multiplication. Note the following corollaries:\n",
                "\n",
                "* The zero vector is always an element of a vector space, since we can set all scalar coefficients to 0.\n",
                "* $\\text{Span} \\{\\mathbf v_1, \\mathbf v_2, \\ldots\\}$ is *closed* under scalar-vector multiplication and vector addition, so it is indeed a vector space.\n",
                "* There are almost always infinitely many vectors in a vector space, since there are infinitely many combinations of scalars. The sole exception is the zero vector space, $\\text{Span}\\{\\mathbf 0\\} = \\{\\mathbf 0\\}$."
            ]
        },
        {
            "attachments": {},
            "cell_type": "markdown",
            "metadata": {},
            "source": [
                "## Examples\n",
                "\n",
                "### Coordinate Spaces\n",
                "The sets of vectors that we have been using so far ($\\mathbb R$, $\\mathbb R^2$, $\\mathbb R^n$) are certainly vector spaces. Note that this also includes the set of real numbers since it is also closed under addition and scalar multiplication. These spaces are also known as *coordinate spaces*.\n",
                "\n",
                "### Matrices\n",
                "There are other kinds of vector spaces as well. For example, the set of $2\\times2$ matrices $\\mathbb R^{2\\times2}$ is a vector space, as such matrices can be added together and multiplied by scalars, and the result is another $2\\times2$ matrix. The zero \"vector\" in this space is the $2\\times2$ zero matrix. In fact, the set of $m \\times n$ matrices $\\mathbb R^{m \\times n}$, for any fixed values of $m$ and $n$, forms a vector space.\n",
                "\n",
                "### Polynomials\n",
                "The set of all $n$-degree polynomials $p(x)$ forms a vector space $\\mathbb P_n$. A $n$-degree polynomial is just a linear combination of powers of a variable $x$ up to the $n$th power. Such polynomials can be added together and scaled, and the degree of the result is still a $n$-degree polynomial. \n",
                "\n",
                "### Functions\n",
                "The set of all real-valued functions $f(x)$ forms a vector space $\\mathbb F$. Any function that you can think of whose output is real belongs to this space. Functions can be added together or multiplied by scalars to form a new function. The zero function is simply $f(x) = 0$.\n",
                "\n",
                ""
            ]
        },
        {
            "attachments": {},
            "cell_type": "markdown",
            "metadata": {},
            "source": [
                "## Subspaces\n",
                "\n",
                "Just as we can have subsets of sets, we can have *subspaces* of vector spaces. A **subspace** of a vector space $V$ is a subset of $V$ that is closed under addition and scalar multiplication--the properties of a vector space. For example $\\{\\mathbf 0\\}$ is a subspace of every vector space. And every vector space is a subspace of itself.\n",
                "\n",
                "For some visual examples, lines through the origin are subspaces of $\\mathbb R^2$ and $\\mathbb R^3$. They must contain the origin since subspaces must contain the zero vector. Similarly, planes containing the origin are subspaces of $\\mathbb R^3$. All of these can be algebraically expressed as the *span* of just one or two vectors contained in the line or plane.\n",
                "\n",
                "On the other hand, quarter-planes and rays in $\\mathbb R^2$ are not subspaces, even if they are infinitely large. They are not closed under addition and scalar multiplication. The same reasoning applies to any finite set of vectors (again with the exception of $\\{\\mathbf 0\\}$).\n",
                "\n",
                "Vector spaces that are not coordinate spaces may also contain subspaces in addition to the zero space. For example, the set of $2\\times2$ upper triangular matrices $\\mathbb U$ is a subspace of $\\mathbb R^{2\\times2}$. So is the set of all $2\\times2$ diagonal matrices $\\mathbb D$. (In fact, $\\mathbb D$ is also a subspace of $\\mathbb U$.) The space of $n$-degree polynomials $\\mathbb P_n$ is a subspace of the space of real-valued functions $\\mathbb F$."
            ]
        },
        {
            "attachments": {},
            "cell_type": "markdown",
            "metadata": {},
            "source": [
                "## Column Space\n",
                "\n",
                "We now introduce two important (coordinate) vector spaces associated with a particular $m \\times n$ matrix $A$. The **column space** of $A$, denoted $C(A)$, is the span (set of all linear combinations) of the columns of $A$. The **row space** of $A$, denoted $C(A^\\top)$, is the span of the rows of $A$, or equivalently the column space of $A^\\top$.\n",
                "\n",
                "Since columns of $A$ are $m$-vectors, $C(A)$ is a subspace of $\\mathbb R^m$. Since rows of $A$ are $n$-vectors, $C(A^\\top)$ is a subspace of $\\mathbb R^n$. For example, take the $2 \\times 2$ identity matrix $I_2$:\n",
                "\n",
                "$$ C(I_2) = \\text{Span}\\{(1,0), (0,1)\\} = \\mathbb R^2 $$\n",
                "\n",
                "The column space can literally be written as the span of the matrix's columns. It is a subspace of $\\mathbb R^2$, and moreover it is actually equal to $\\mathbb R^2$. The columns of $I_2$ span all of $\\mathbb R^2$. But now look at the next example: \n",
                "\n",
                "$$ A = \\begin{bmatrix} 1 \u0026 2 \\\\ 2 \u0026 4 \\end{bmatrix} \\quad \\Rightarrow \\quad C(A) = \\text{Span}\\{(1,2),(2,4)\\} = \\text{Span}\\{(1,2)\\} $$\n",
                "\n",
                "Again, we can write the column space of $A$ as the span of its columns. But you may notice that the two columns are multiples of each other; the second is redundant. It would be equally correct to just keep the first (or second) column. It is a subspace (a line) of $\\mathbb R^2$.\n",
                "\n",
                "### Existence of Solutions to $A \\mathbf x = \\mathbf b$\n",
                "\n",
                "The column space of $A$ is crucially related to the linear system $A \\mathbf x = \\mathbf b$. This equation implies that $\\mathbf b$ is in the column space of $A$, since the operation $A \\mathbf x$ is a linear combination of $A$'s columns. Thus, $A \\mathbf x = \\mathbf b$ is solvable iff $\\mathbf b \\in C(A)$. \n",
                "\n",
                "We know that $C(A)$ is a subspace of $\\mathbb R^m$. If it is a strict subspace and does not contain all $m$-vectors, this means that there will be $m$-vectors $\\mathbf b$ for which $A \\mathbf x = \\mathbf b$ will have no solution. Conversely, if $C(A) = \\mathbb R^m$, $A \\mathbf x = \\mathbf b$ will *always* have at least one solution for all $\\mathbf b$."
            ]
        }
    ]
}
